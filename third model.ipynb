{
 "cells": [
  {
   "cell_type": "code",
   "execution_count": 1,
   "id": "dd139f50",
   "metadata": {},
   "outputs": [],
   "source": [
    "from scipy.stats import ttest_ind\n",
    "import pandas as pd\n",
    "import numpy as np\n",
    "import re"
   ]
  },
  {
   "cell_type": "code",
   "execution_count": null,
   "id": "6747844f",
   "metadata": {},
   "outputs": [],
   "source": [
    "file = open('third_model_data/frequent_patterns/translatedFS_q5_high_s5g0', 'r')\n",
    "FP_high = file.readlines()\n",
    "file.close()\n",
    "FP_high_col1 = [x[: x.index(' \\t')] for x in FP_high]\n",
    "FP_high_col2 = [x[x.index('\\t')+1:-1] for x in FP_high]\n",
    "d = {'FP': FP_high_col1, 'FoC_high': FP_high_col2}\n",
    "df_high = pd.DataFrame(data = d)\n",
    "df_high"
   ]
  },
  {
   "cell_type": "code",
   "execution_count": null,
   "id": "7efa9d28",
   "metadata": {},
   "outputs": [],
   "source": [
    "file = open('third_model_data/frequent_patterns/translatedFS_q5_low_s5g0', 'r')\n",
    "FP_low = file.readlines()\n",
    "file.close()\n",
    "FP_low_col1 = [x[: x.index(' \\t')] for x in FP_low]\n",
    "FP_low_col2 = [x[x.index('\\t')+1:-1] for x in FP_low]\n",
    "d = {'FP': FP_low_col1, 'FoC_low': FP_low_col2}\n",
    "df_low = pd.DataFrame(data = d)\n",
    "df_low"
   ]
  },
  {
   "cell_type": "code",
   "execution_count": null,
   "id": "a5d2b92d",
   "metadata": {},
   "outputs": [],
   "source": [
    "pd.set_option(\"display.max_rows\", None)\n",
    "pd.set_option(\"display.max_columns\", None)"
   ]
  },
  {
   "cell_type": "code",
   "execution_count": null,
   "id": "83326f1b",
   "metadata": {},
   "outputs": [],
   "source": [
    "df = pd.merge(df_high, df_low, how='outer', on='FP').fillna(0)\n",
    "df['FoC_high'] = df['FoC_high'].astype(int)\n",
    "df['FoC_low'] = df['FoC_low'].astype(int)\n",
    "df"
   ]
  },
  {
   "cell_type": "code",
   "execution_count": null,
   "id": "92464d0a",
   "metadata": {},
   "outputs": [],
   "source": [
    "df['A'] = df['FoC_high']/52*100\n",
    "df['B'] = 100-df['A']\n",
    "df['C'] = df['FoC_low']/52*100\n",
    "df['D'] = 100-df['C']\n",
    "df['chi'] = (df['A']*df['D']-df['B']*df['C']).pow(2)*0.02/(df['B']+df['D'])/(df['A']+df['C'])\n",
    "df.loc[df['chi']>=3.841, 'p=0.05'] = 1\n",
    "df = df.fillna(0)\n",
    "df"
   ]
  },
  {
   "cell_type": "code",
   "execution_count": null,
   "id": "846b981f",
   "metadata": {},
   "outputs": [],
   "source": [
    "df.loc[(df['p=0.05']==1) & (df['A']>=50) & (df['C']>=50), 'label'] = 'Med'\n",
    "df.loc[(df['p=0.05']==1) & (df['A']>=50) & (df['C']<50), 'label'] = 'FH'\n",
    "df.loc[(df['p=0.05']==1) & (df['A']<50) & (df['C']>=50), 'label'] = 'FL'\n",
    "df"
   ]
  },
  {
   "cell_type": "code",
   "execution_count": null,
   "id": "1382d41a",
   "metadata": {},
   "outputs": [],
   "source": [
    "file = open('third_model_data/quiz5_high.txt', 'r')\n",
    "P_high = file.readlines()\n",
    "file.close()\n",
    "P_high = [x[x.index(' ') + 1: -1] for x in P_high]\n",
    "P_high = [x.split() for x in P_high]\n",
    "file = open('third_model_data/quiz5_low.txt', 'r')\n",
    "P_low = file.readlines()\n",
    "file.close()\n",
    "P_low = [x[x.index(' ') + 1: -1] for x in P_low]\n",
    "P_low = [x.split() for x in P_low]"
   ]
  },
  {
   "cell_type": "code",
   "execution_count": null,
   "id": "fa2cd792",
   "metadata": {},
   "outputs": [],
   "source": [
    "def FoC(df, FP, P_high, P_low):\n",
    "    #is = instance support\n",
    "    list_is_high = []\n",
    "    list_is_low = []\n",
    "    for item in P_high:\n",
    "        item_flat = ' '.join(item)\n",
    "        x = re.findall(FP, item_flat)\n",
    "        list_is_high.append(len(x))\n",
    "    for item in P_low:\n",
    "        item_flat = ' '.join(item)\n",
    "        x = re.findall(FP, item_flat)\n",
    "        list_is_low.append(len(x))\n",
    "    #print(list_is_high)\n",
    "    #print('*'*50)\n",
    "    #print(list_is_low)\n",
    "    return ttest_ind(list_is_high, list_is_low)[1], sum(list_is_high), sum(list_is_low)"
   ]
  },
  {
   "cell_type": "code",
   "execution_count": null,
   "id": "8ae9534d",
   "metadata": {},
   "outputs": [],
   "source": [
    "df_subset = df.loc[(df['label']=='Med')]\n",
    "for i in df_subset.index:\n",
    "    aaa = FoC(df, df.loc[i, 'FP'], P_high, P_low)\n",
    "    if aaa[0] >= 0.05:\n",
    "        print(aaa)\n",
    "    else:\n",
    "        print(aaa)\n",
    "        if aaa[1] > aaa[2]:\n",
    "            df.loc[i, 'label'] = 'DH'\n",
    "        else:\n",
    "            df.loc[i, 'label'] = 'DL'"
   ]
  },
  {
   "cell_type": "code",
   "execution_count": null,
   "id": "626e1794",
   "metadata": {},
   "outputs": [],
   "source": [
    "df.loc[(df['label']=='FH') | (df['label']=='FL')| (df['label']=='DH')| (df['label']=='DL')]"
   ]
  },
  {
   "cell_type": "code",
   "execution_count": null,
   "id": "f6a3a2c6",
   "metadata": {},
   "outputs": [],
   "source": [
    "df_student_feature = df.loc[(df['label']=='FH') | (df['label']=='FL')| (df['label']=='DH')| (df['label']=='DL')].T.head(1)\n",
    "df_student_feature"
   ]
  },
  {
   "cell_type": "code",
   "execution_count": null,
   "id": "57b24ead",
   "metadata": {},
   "outputs": [],
   "source": [
    "for i in range(len(P_high)):\n",
    "    student_flat = ' '.join(P_high[i])\n",
    "    df_student_feature.loc[len(df_student_feature.index)] = [student_flat] * len(df_student_feature.columns)\n",
    "for i in range(len(P_low)):\n",
    "    student_flat = ' '.join(P_low[i])\n",
    "    df_student_feature.loc[len(df_student_feature.index)] = [student_flat] * len(df_student_feature.columns)\n",
    "df_student_feature"
   ]
  },
  {
   "cell_type": "code",
   "execution_count": null,
   "id": "f6f7235e",
   "metadata": {},
   "outputs": [],
   "source": [
    "for i in range(len(df_student_feature.columns)):\n",
    "    df_student_feature.iloc[:,i] = df_student_feature.iloc[:,i].str.count(df_student_feature.iloc[0,i])\n",
    "df_student_feature = df_student_feature.iloc[1:]\n",
    "#df_student_feature[df_student_feature>1] = 1\n",
    "df_student_feature"
   ]
  },
  {
   "cell_type": "code",
   "execution_count": null,
   "id": "8b4bc7b2",
   "metadata": {},
   "outputs": [],
   "source": [
    "df_student_feature.to_csv('third_model_data/features/quiz5.csv', index =False)"
   ]
  },
  {
   "cell_type": "code",
   "execution_count": 2,
   "id": "4722f648",
   "metadata": {},
   "outputs": [],
   "source": [
    "df_student_feature1 = pd.read_csv('third_model_data/features/quiz1.csv')\n",
    "df_student_feature1.index = np.arange(1, len(df_student_feature1)+1)\n",
    "df_student_feature2 = pd.read_csv('third_model_data/features/quiz2.csv')\n",
    "df_student_feature2.index = np.arange(1, len(df_student_feature2)+1)\n",
    "df_student_feature3 = pd.read_csv('third_model_data/features/quiz3.csv')\n",
    "df_student_feature3.index = np.arange(1, len(df_student_feature3)+1)\n",
    "df_student_feature4 = pd.read_csv('third_model_data/features/quiz4.csv')\n",
    "df_student_feature4.index = np.arange(1, len(df_student_feature4)+1)"
   ]
  },
  {
   "cell_type": "code",
   "execution_count": 19,
   "id": "c90fe38e",
   "metadata": {},
   "outputs": [],
   "source": [
    "df_student_feature = pd.merge(df_student_feature1, df_student_feature2, left_index=True, right_index=True)\n",
    "df_student_feature = pd.merge(df_student_feature, df_student_feature3, left_index=True, right_index=True)\n",
    "df_student_feature = pd.merge(df_student_feature, df_student_feature4, left_index=True, right_index=True)\n",
    "#df_student_feature = df_student_feature1"
   ]
  },
  {
   "cell_type": "code",
   "execution_count": 20,
   "id": "3a1d1d9d",
   "metadata": {},
   "outputs": [
    {
     "data": {
      "text/plain": [
       "(104, 164)"
      ]
     },
     "execution_count": 20,
     "metadata": {},
     "output_type": "execute_result"
    }
   ],
   "source": [
    "X = df_student_feature.to_numpy()\n",
    "X.shape"
   ]
  },
  {
   "cell_type": "code",
   "execution_count": 12,
   "id": "982b48e0",
   "metadata": {},
   "outputs": [],
   "source": [
    "y = np.concatenate((np.ones((77,), dtype=int), np.zeros((27,), dtype=int)), axis = None)"
   ]
  },
  {
   "cell_type": "code",
   "execution_count": 13,
   "id": "726ff536",
   "metadata": {},
   "outputs": [],
   "source": [
    "from sklearn.model_selection import cross_val_score\n",
    "from sklearn.ensemble import RandomForestClassifier, AdaBoostClassifier\n",
    "from sklearn.neighbors import KNeighborsClassifier\n",
    "from sklearn.svm import SVC\n",
    "from sklearn.gaussian_process import GaussianProcessClassifier\n",
    "from sklearn.tree import DecisionTreeClassifier\n",
    "from sklearn.neural_network import MLPClassifier\n",
    "from sklearn.naive_bayes import GaussianNB\n",
    "from sklearn.discriminant_analysis import QuadraticDiscriminantAnalysis\n",
    "from sklearn.gaussian_process.kernels import RBF"
   ]
  },
  {
   "cell_type": "code",
   "execution_count": 22,
   "id": "c7a186dd",
   "metadata": {},
   "outputs": [],
   "source": [
    "names = [\n",
    "    \"Nearest Neighbors\",\n",
    "    \"Linear SVM\",\n",
    "    \"RBF SVM\",\n",
    "    \"Gaussian Process\",\n",
    "    \"Decision Tree\",\n",
    "    \"Random Forest\",\n",
    "    \"Neural Net\",\n",
    "    \"AdaBoost\",\n",
    "    \"Naive Bayes\",\n",
    "    \"QDA\",\n",
    "]\n",
    "\n",
    "classifiers = [\n",
    "    KNeighborsClassifier(3),\n",
    "    SVC(kernel=\"linear\", C=0.025),\n",
    "    SVC(gamma=2, C=1),\n",
    "    GaussianProcessClassifier(1.0 * RBF(1.0)),\n",
    "    DecisionTreeClassifier(max_depth=5),\n",
    "    RandomForestClassifier(max_depth=5, n_estimators=10, max_features=1),\n",
    "    MLPClassifier(alpha=1, max_iter=1000),\n",
    "    AdaBoostClassifier(),\n",
    "    GaussianNB(),\n",
    "    QuadraticDiscriminantAnalysis(),\n",
    "]"
   ]
  },
  {
   "cell_type": "code",
   "execution_count": 23,
   "id": "9900e149",
   "metadata": {},
   "outputs": [
    {
     "name": "stdout",
     "output_type": "stream",
     "text": [
      "Nearest Neighbors 0.6247619047619047\n",
      "Linear SVM 0.7109523809523809\n",
      "RBF SVM 0.7404761904761905\n",
      "Gaussian Process 0.6638095238095237\n",
      "Decision Tree 0.6066666666666667\n",
      "Random Forest 0.7119047619047619\n",
      "Neural Net 0.6042857142857143\n",
      "AdaBoost 0.5466666666666666\n",
      "Naive Bayes 0.6242857142857142\n",
      "QDA 0.5676190476190477\n"
     ]
    },
    {
     "name": "stderr",
     "output_type": "stream",
     "text": [
      "C:\\Coding\\Anaconda3\\envs\\cisc320\\lib\\site-packages\\sklearn\\discriminant_analysis.py:878: UserWarning: Variables are collinear\n",
      "  warnings.warn(\"Variables are collinear\")\n",
      "C:\\Coding\\Anaconda3\\envs\\cisc320\\lib\\site-packages\\sklearn\\discriminant_analysis.py:878: UserWarning: Variables are collinear\n",
      "  warnings.warn(\"Variables are collinear\")\n",
      "C:\\Coding\\Anaconda3\\envs\\cisc320\\lib\\site-packages\\sklearn\\discriminant_analysis.py:878: UserWarning: Variables are collinear\n",
      "  warnings.warn(\"Variables are collinear\")\n",
      "C:\\Coding\\Anaconda3\\envs\\cisc320\\lib\\site-packages\\sklearn\\discriminant_analysis.py:878: UserWarning: Variables are collinear\n",
      "  warnings.warn(\"Variables are collinear\")\n",
      "C:\\Coding\\Anaconda3\\envs\\cisc320\\lib\\site-packages\\sklearn\\discriminant_analysis.py:878: UserWarning: Variables are collinear\n",
      "  warnings.warn(\"Variables are collinear\")\n",
      "C:\\Coding\\Anaconda3\\envs\\cisc320\\lib\\site-packages\\sklearn\\discriminant_analysis.py:878: UserWarning: Variables are collinear\n",
      "  warnings.warn(\"Variables are collinear\")\n"
     ]
    }
   ],
   "source": [
    "for name, clf in zip(names, classifiers):\n",
    "    clf.fit(X, y)\n",
    "    scores = cross_val_score(clf, X, y, cv=5)\n",
    "    print(name, scores.mean())"
   ]
  },
  {
   "cell_type": "code",
   "execution_count": null,
   "id": "4be184e7",
   "metadata": {},
   "outputs": [],
   "source": []
  },
  {
   "cell_type": "code",
   "execution_count": null,
   "id": "722a8bd7",
   "metadata": {},
   "outputs": [],
   "source": []
  }
 ],
 "metadata": {
  "kernelspec": {
   "display_name": "Python 3 (ipykernel)",
   "language": "python",
   "name": "python3"
  },
  "language_info": {
   "codemirror_mode": {
    "name": "ipython",
    "version": 3
   },
   "file_extension": ".py",
   "mimetype": "text/x-python",
   "name": "python",
   "nbconvert_exporter": "python",
   "pygments_lexer": "ipython3",
   "version": "3.9.2"
  }
 },
 "nbformat": 4,
 "nbformat_minor": 5
}
